{
 "cells": [
  {
   "cell_type": "markdown",
   "metadata": {},
   "source": [
    "## NLP Topic Modeling Exercise"
   ]
  },
  {
   "cell_type": "code",
   "execution_count": 1,
   "metadata": {
    "ExecuteTime": {
     "end_time": "2020-04-29T12:18:12.932082Z",
     "start_time": "2020-04-29T12:18:12.200358Z"
    }
   },
   "outputs": [],
   "source": [
    "# import TfidfVectorizer and CountVectorizer from sklearn\n",
    "from sklearn.feature_extraction.text import TfidfVectorizer, CountVectorizer\n",
    "\n",
    "# import fetch_20newsgroups from sklearn.datasets\n",
    "from sklearn.datasets import fetch_20newsgroups\n",
    "\n",
    "# import NMF and LatentDirichletAllocation from sklearn\n",
    "from sklearn.decomposition import NMF, LatentDirichletAllocation"
   ]
  },
  {
   "cell_type": "code",
   "execution_count": 2,
   "metadata": {
    "ExecuteTime": {
     "end_time": "2020-04-29T12:18:14.463840Z",
     "start_time": "2020-04-29T12:18:13.020189Z"
    }
   },
   "outputs": [],
   "source": [
    "dataset = fetch_20newsgroups(shuffle=True, random_state=1, remove=('headers', 'footers', 'quotes'))\n",
    "documents = dataset.data"
   ]
  },
  {
   "cell_type": "markdown",
   "metadata": {},
   "source": [
    "* create a variable called `'no_features'` and set its value to 100."
   ]
  },
  {
   "cell_type": "code",
   "execution_count": 3,
   "metadata": {
    "ExecuteTime": {
     "end_time": "2020-04-29T12:18:15.590700Z",
     "start_time": "2020-04-29T12:18:15.585820Z"
    }
   },
   "outputs": [],
   "source": [
    "no_features = 100"
   ]
  },
  {
   "cell_type": "markdown",
   "metadata": {},
   "source": [
    "* create a variable `'no_topics'` and set its value to 100"
   ]
  },
  {
   "cell_type": "code",
   "execution_count": 4,
   "metadata": {
    "ExecuteTime": {
     "end_time": "2020-04-29T12:18:16.743304Z",
     "start_time": "2020-04-29T12:18:16.737763Z"
    }
   },
   "outputs": [],
   "source": [
    "no_topics = 100"
   ]
  },
  {
   "cell_type": "markdown",
   "metadata": {},
   "source": [
    "## NMF"
   ]
  },
  {
   "cell_type": "markdown",
   "metadata": {},
   "source": [
    "* instantiate a TfidfVectorizer with the following parameters:\n",
    "\n",
    "\n",
    "    * max_df = 0.95\n",
    "    * min_df = 2\n",
    "    * max_features = no_features\n",
    "    * stop_words = 'english'"
   ]
  },
  {
   "cell_type": "code",
   "execution_count": 5,
   "metadata": {},
   "outputs": [
    {
     "name": "stderr",
     "output_type": "stream",
     "text": [
      "[nltk_data] Downloading package stopwords to\n",
      "[nltk_data]     C:\\Users\\bevli\\AppData\\Roaming\\nltk_data...\n",
      "[nltk_data]   Package stopwords is already up-to-date!\n"
     ]
    }
   ],
   "source": [
    "# Import the NLTK package and download the necessary data\n",
    "import nltk\n",
    "nltk.download('stopwords')\n",
    "from nltk.corpus import stopwords\n",
    "\n",
    "# view the stopwords\n",
    "stopwords.words()\n",
    "\n",
    "#view english stopwords\n",
    "engstopwords = stopwords.words('english')"
   ]
  },
  {
   "cell_type": "code",
   "execution_count": 6,
   "metadata": {
    "ExecuteTime": {
     "end_time": "2020-04-29T12:18:17.892838Z",
     "start_time": "2020-04-29T12:18:17.888668Z"
    }
   },
   "outputs": [],
   "source": [
    "tfidfv = TfidfVectorizer(max_df = 0.95, min_df = 7, max_features = no_features,\n",
    "                         stop_words = stopwords.words('english'))"
   ]
  },
  {
   "cell_type": "markdown",
   "metadata": {},
   "source": [
    "* use fit_transform method of TfidfVectorizer to transform the documents"
   ]
  },
  {
   "cell_type": "code",
   "execution_count": 7,
   "metadata": {
    "ExecuteTime": {
     "end_time": "2020-04-29T12:18:21.486038Z",
     "start_time": "2020-04-29T12:18:19.135830Z"
    }
   },
   "outputs": [],
   "source": [
    "processed_features = tfidfv.fit_transform(documents)"
   ]
  },
  {
   "cell_type": "markdown",
   "metadata": {},
   "source": [
    "* get the features names from TfidfVectorizer"
   ]
  },
  {
   "cell_type": "code",
   "execution_count": 8,
   "metadata": {
    "ExecuteTime": {
     "end_time": "2020-04-29T12:18:22.661253Z",
     "start_time": "2020-04-29T12:18:22.656169Z"
    },
    "collapsed": true
   },
   "outputs": [
    {
     "data": {
      "text/plain": [
       "['00',\n",
       " '10',\n",
       " '15',\n",
       " '20',\n",
       " 'also',\n",
       " 'another',\n",
       " 'anyone',\n",
       " 'around',\n",
       " 'available',\n",
       " 'ax',\n",
       " 'b8f',\n",
       " 'back',\n",
       " 'believe',\n",
       " 'better',\n",
       " 'bit',\n",
       " 'case',\n",
       " 'com',\n",
       " 'come',\n",
       " 'could',\n",
       " 'data',\n",
       " 'drive',\n",
       " 'edu',\n",
       " 'etc',\n",
       " 'even',\n",
       " 'file',\n",
       " 'find',\n",
       " 'first',\n",
       " 'g9v',\n",
       " 'get',\n",
       " 'go',\n",
       " 'god',\n",
       " 'going',\n",
       " 'good',\n",
       " 'got',\n",
       " 'government',\n",
       " 'help',\n",
       " 'however',\n",
       " 'information',\n",
       " 'key',\n",
       " 'know',\n",
       " 'last',\n",
       " 'law',\n",
       " 'let',\n",
       " 'like',\n",
       " 'long',\n",
       " 'look',\n",
       " 'made',\n",
       " 'mail',\n",
       " 'make',\n",
       " 'many',\n",
       " 'max',\n",
       " 'may',\n",
       " 'might',\n",
       " 'much',\n",
       " 'must',\n",
       " 'need',\n",
       " 'never',\n",
       " 'new',\n",
       " 'number',\n",
       " 'one',\n",
       " 'part',\n",
       " 'people',\n",
       " 'please',\n",
       " 'point',\n",
       " 'power',\n",
       " 'problem',\n",
       " 'program',\n",
       " 'question',\n",
       " 'read',\n",
       " 'really',\n",
       " 'right',\n",
       " 'said',\n",
       " 'say',\n",
       " 'see',\n",
       " 'since',\n",
       " 'something',\n",
       " 'space',\n",
       " 'still',\n",
       " 'sure',\n",
       " 'system',\n",
       " 'take',\n",
       " 'thanks',\n",
       " 'things',\n",
       " 'think',\n",
       " 'time',\n",
       " 'two',\n",
       " 'us',\n",
       " 'use',\n",
       " 'used',\n",
       " 'using',\n",
       " 'want',\n",
       " 'way',\n",
       " 'well',\n",
       " 'windows',\n",
       " 'without',\n",
       " 'work',\n",
       " 'world',\n",
       " 'would',\n",
       " 'year',\n",
       " 'years']"
      ]
     },
     "execution_count": 8,
     "metadata": {},
     "output_type": "execute_result"
    }
   ],
   "source": [
    "feature_names = tfidfv.get_feature_names()\n",
    "feature_names"
   ]
  },
  {
   "cell_type": "markdown",
   "metadata": {},
   "source": [
    "* instantiate NMF and fit transformed data"
   ]
  },
  {
   "cell_type": "code",
   "execution_count": 9,
   "metadata": {
    "ExecuteTime": {
     "end_time": "2020-04-29T12:18:24.532755Z",
     "start_time": "2020-04-29T12:18:23.661009Z"
    }
   },
   "outputs": [
    {
     "name": "stderr",
     "output_type": "stream",
     "text": [
      "C:\\Users\\bevli\\anaconda3\\lib\\site-packages\\sklearn\\decomposition\\_nmf.py:312: FutureWarning: The 'init' value, when 'init=None' and n_components is less than n_samples and n_features, will be changed from 'nndsvd' to 'nndsvda' in 1.1 (renaming of 0.26).\n",
      "  warnings.warn((\"The 'init' value, when 'init=None' and \"\n"
     ]
    }
   ],
   "source": [
    "nmf = NMF(n_components=no_topics)\n",
    "nmfd = nmf.fit_transform(processed_features)"
   ]
  },
  {
   "cell_type": "code",
   "execution_count": null,
   "metadata": {},
   "outputs": [],
   "source": []
  },
  {
   "cell_type": "markdown",
   "metadata": {},
   "source": [
    "## LDA w/ Sklearn"
   ]
  },
  {
   "cell_type": "markdown",
   "metadata": {},
   "source": [
    "* instantiate a CountVectorizer with following parameters:\n",
    "\n",
    "\n",
    "    * max_df = 0.95\n",
    "    * min_df = 2\n",
    "    * max_features = no_features\n",
    "    * stop_words = 'english'"
   ]
  },
  {
   "cell_type": "code",
   "execution_count": 10,
   "metadata": {
    "ExecuteTime": {
     "end_time": "2020-04-29T12:18:25.547906Z",
     "start_time": "2020-04-29T12:18:25.540452Z"
    }
   },
   "outputs": [],
   "source": [
    "CountVectorizer = CountVectorizer( max_df = 0.95, min_df = 2\n",
    ", max_features = no_features\n",
    ", stop_words = 'english')"
   ]
  },
  {
   "cell_type": "markdown",
   "metadata": {},
   "source": [
    "* use fit_transform method of CountVectorizer to transform documents"
   ]
  },
  {
   "cell_type": "code",
   "execution_count": 11,
   "metadata": {
    "ExecuteTime": {
     "end_time": "2020-04-29T12:18:29.307223Z",
     "start_time": "2020-04-29T12:18:26.637153Z"
    }
   },
   "outputs": [],
   "source": [
    "processed_features_ = CountVectorizer.fit_transform(documents)"
   ]
  },
  {
   "cell_type": "markdown",
   "metadata": {},
   "source": [
    "* get the features names from TfidfVectorizer"
   ]
  },
  {
   "cell_type": "code",
   "execution_count": 12,
   "metadata": {
    "ExecuteTime": {
     "end_time": "2020-04-29T12:18:31.516381Z",
     "start_time": "2020-04-29T12:18:31.498740Z"
    },
    "collapsed": true
   },
   "outputs": [
    {
     "data": {
      "text/plain": [
       "['00',\n",
       " '10',\n",
       " '15',\n",
       " '20',\n",
       " 'also',\n",
       " 'another',\n",
       " 'anyone',\n",
       " 'around',\n",
       " 'available',\n",
       " 'ax',\n",
       " 'b8f',\n",
       " 'back',\n",
       " 'believe',\n",
       " 'better',\n",
       " 'bit',\n",
       " 'case',\n",
       " 'com',\n",
       " 'come',\n",
       " 'could',\n",
       " 'data',\n",
       " 'drive',\n",
       " 'edu',\n",
       " 'etc',\n",
       " 'even',\n",
       " 'file',\n",
       " 'find',\n",
       " 'first',\n",
       " 'g9v',\n",
       " 'get',\n",
       " 'go',\n",
       " 'god',\n",
       " 'going',\n",
       " 'good',\n",
       " 'got',\n",
       " 'government',\n",
       " 'help',\n",
       " 'however',\n",
       " 'information',\n",
       " 'key',\n",
       " 'know',\n",
       " 'last',\n",
       " 'law',\n",
       " 'let',\n",
       " 'like',\n",
       " 'long',\n",
       " 'look',\n",
       " 'made',\n",
       " 'mail',\n",
       " 'make',\n",
       " 'many',\n",
       " 'max',\n",
       " 'may',\n",
       " 'might',\n",
       " 'much',\n",
       " 'must',\n",
       " 'need',\n",
       " 'never',\n",
       " 'new',\n",
       " 'number',\n",
       " 'one',\n",
       " 'part',\n",
       " 'people',\n",
       " 'please',\n",
       " 'point',\n",
       " 'power',\n",
       " 'problem',\n",
       " 'program',\n",
       " 'question',\n",
       " 'read',\n",
       " 'really',\n",
       " 'right',\n",
       " 'said',\n",
       " 'say',\n",
       " 'see',\n",
       " 'since',\n",
       " 'something',\n",
       " 'space',\n",
       " 'still',\n",
       " 'sure',\n",
       " 'system',\n",
       " 'take',\n",
       " 'thanks',\n",
       " 'things',\n",
       " 'think',\n",
       " 'time',\n",
       " 'two',\n",
       " 'us',\n",
       " 'use',\n",
       " 'used',\n",
       " 'using',\n",
       " 'want',\n",
       " 'way',\n",
       " 'well',\n",
       " 'windows',\n",
       " 'without',\n",
       " 'work',\n",
       " 'world',\n",
       " 'would',\n",
       " 'year',\n",
       " 'years']"
      ]
     },
     "execution_count": 12,
     "metadata": {},
     "output_type": "execute_result"
    }
   ],
   "source": [
    "feature_names_ = tfidfv.get_feature_names()\n",
    "feature_names_"
   ]
  },
  {
   "cell_type": "markdown",
   "metadata": {},
   "source": [
    "* instantiate LatentDirichletAllocation and fit transformed data "
   ]
  },
  {
   "cell_type": "code",
   "execution_count": 13,
   "metadata": {
    "ExecuteTime": {
     "end_time": "2020-04-29T12:19:03.315322Z",
     "start_time": "2020-04-29T12:18:32.768365Z"
    }
   },
   "outputs": [
    {
     "data": {
      "text/plain": [
       "array([[0.01000207, 0.01000069, 0.01000184, ..., 0.01      , 0.2032331 ,\n",
       "        0.01000132],\n",
       "       [0.01111273, 0.01111323, 0.0111145 , ..., 0.01111111, 0.01111207,\n",
       "        0.01111833],\n",
       "       [0.01111117, 0.01111226, 0.14303224, ..., 0.01111111, 0.01111412,\n",
       "        0.01111182],\n",
       "       ...,\n",
       "       [0.03333341, 0.03333526, 0.03333721, ..., 0.03333333, 0.0333397 ,\n",
       "        0.03333579],\n",
       "       [0.02000008, 0.02000303, 0.0200029 , ..., 0.02      , 0.02000189,\n",
       "        0.02000136],\n",
       "       [0.00400025, 0.00400036, 0.0040007 , ..., 0.004     , 0.43308564,\n",
       "        0.00400016]])"
      ]
     },
     "execution_count": 13,
     "metadata": {},
     "output_type": "execute_result"
    }
   ],
   "source": [
    "lda = LatentDirichletAllocation()\n",
    "lda.fit_transform(processed_features_)"
   ]
  },
  {
   "cell_type": "code",
   "execution_count": null,
   "metadata": {},
   "outputs": [],
   "source": []
  },
  {
   "cell_type": "markdown",
   "metadata": {},
   "source": [
    "* create a function `display_topics` that is able to display the top words in a topic for different models"
   ]
  },
  {
   "cell_type": "code",
   "execution_count": 39,
   "metadata": {
    "ExecuteTime": {
     "end_time": "2020-04-29T12:19:04.476192Z",
     "start_time": "2020-04-29T12:19:04.469045Z"
    }
   },
   "outputs": [],
   "source": [
    "def display_topics(model, vectorizer, top = 10):\n",
    "    for idx, topic in enumerate(model.components_):\n",
    "        print(\"Topic %d:\" % (idx))\n",
    "        print([(vectorizer.get_feature_names()[i], topic[i])for i in topic.argsort()[:-top - 1:-1]])"
   ]
  },
  {
   "cell_type": "markdown",
   "metadata": {},
   "source": [
    "* display top 10 words from each topic from NMF model"
   ]
  },
  {
   "cell_type": "code",
   "execution_count": 37,
   "metadata": {},
   "outputs": [
    {
     "name": "stdout",
     "output_type": "stream",
     "text": [
      "Topic 0:\n",
      "[('say', 3.2426363496488153), ('people', 7.10126671430922e-05), ('god', 3.343159669262139e-09), ('first', 0.0), ('g9v', 0.0), ('get', 0.0), ('go', 0.0), ('going', 0.0), ('good', 0.0), ('got', 0.0)]\n",
      "Topic 1:\n",
      "[('please', 11.03591781287428), ('god', 1.2234308492061488e-09), ('years', 0.0), ('first', 0.0), ('g9v', 0.0), ('get', 0.0), ('go', 0.0), ('going', 0.0), ('good', 0.0), ('got', 0.0)]\n",
      "Topic 2:\n",
      "[('would', 3.844860814838243), ('god', 6.737144547111459e-10), ('years', 0.0), ('however', 0.0), ('first', 0.0), ('g9v', 0.0), ('get', 0.0), ('go', 0.0), ('going', 0.0), ('good', 0.0)]\n",
      "Topic 3:\n",
      "[('one', 4.104580607084754), ('god', 8.718251460666214e-10), ('years', 0.0), ('however', 0.0), ('first', 0.0), ('g9v', 0.0), ('get', 0.0), ('go', 0.0), ('going', 0.0), ('good', 0.0)]\n",
      "Topic 4:\n",
      "[('know', 6.71944240417515), ('god', 3.6232100627735275e-10), ('years', 0.0), ('however', 0.0), ('first', 0.0), ('g9v', 0.0), ('get', 0.0), ('go', 0.0), ('going', 0.0), ('good', 0.0)]\n",
      "Topic 5:\n",
      "[('edu', 4.461510983498503), ('years', 0.0), ('however', 0.0), ('g9v', 0.0), ('get', 0.0), ('go', 0.0), ('god', 0.0), ('going', 0.0), ('good', 0.0), ('got', 0.0)]\n",
      "Topic 6:\n",
      "[('get', 5.1052593089247535), ('years', 0.0), ('however', 0.0), ('first', 0.0), ('g9v', 0.0), ('go', 0.0), ('god', 0.0), ('going', 0.0), ('good', 0.0), ('got', 0.0)]\n",
      "Topic 7:\n",
      "[('like', 4.2332452644644425), ('years', 0.0), ('however', 0.0), ('first', 0.0), ('g9v', 0.0), ('get', 0.0), ('go', 0.0), ('god', 0.0), ('going', 0.0), ('good', 0.0)]\n",
      "Topic 8:\n",
      "[('new', 11.365137425159165), ('b8f', 0.0008569152737255283), ('g9v', 0.0007291844637655334), ('00', 1.9892897946577673e-12), ('however', 0.0), ('get', 0.0), ('go', 0.0), ('god', 0.0), ('going', 0.0), ('good', 0.0)]\n",
      "Topic 9:\n",
      "[('people', 7.011970457960653), ('us', 2.102723811026324e-05), ('time', 1.0801082742213826e-05), ('point', 1.4677311404399566e-06), ('even', 9.537720903724148e-07), ('part', 7.264405849305434e-07), ('way', 1.7689133233997818e-08), ('first', 0.0), ('g9v', 0.0), ('get', 0.0)]\n",
      "Topic 10:\n",
      "[('god', 5.325617642699451), ('people', 0.00016181553965198298), ('us', 3.320684295783946e-05), ('must', 5.786832397461423e-06), ('believe', 4.056524451053035e-06), ('time', 4.052866580067852e-06), ('point', 2.2178655034475166e-06), ('may', 1.3083751009018302e-06), ('part', 8.458872207259509e-07), ('even', 2.5720479502525776e-07)]\n",
      "Topic 11:\n",
      "[('think', 5.684522854781574), ('believe', 2.2395876459598804e-08), ('file', 0.0), ('first', 0.0), ('g9v', 0.0), ('get', 0.0), ('go', 0.0), ('god', 0.0), ('going', 0.0), ('good', 0.0)]\n",
      "Topic 12:\n",
      "[('windows', 6.434399237362106), ('well', 5.863311767415282e-10), ('years', 0.0), ('however', 0.0), ('first', 0.0), ('g9v', 0.0), ('get', 0.0), ('go', 0.0), ('god', 0.0), ('going', 0.0)]\n",
      "Topic 13:\n",
      "[('good', 4.39782787233061), ('believe', 8.820277028898557e-09), ('years', 0.0), ('g9v', 0.0), ('get', 0.0), ('go', 0.0), ('god', 0.0), ('going', 0.0), ('got', 0.0), ('government', 0.0)]\n",
      "Topic 14:\n",
      "[('use', 4.700010235662243), ('max', 0.01075533241068713), ('years', 0.0), ('however', 0.0), ('first', 0.0), ('g9v', 0.0), ('get', 0.0), ('go', 0.0), ('god', 0.0), ('going', 0.0)]\n",
      "Topic 15:\n",
      "[('drive', 5.2210366519474345), ('max', 0.003378666796104871), ('however', 0.0), ('g9v', 0.0), ('get', 0.0), ('go', 0.0), ('god', 0.0), ('going', 0.0), ('good', 0.0), ('got', 0.0)]\n",
      "Topic 16:\n",
      "[('could', 4.459877950244978), ('believe', 2.0073617460001765e-09), ('find', 0.0), ('g9v', 0.0), ('get', 0.0), ('go', 0.0), ('god', 0.0), ('going', 0.0), ('good', 0.0), ('got', 0.0)]\n",
      "Topic 17:\n",
      "[('also', 5.0567197093464165), ('part', 3.8877841391150145e-07), ('information', 0.0), ('g9v', 0.0), ('get', 0.0), ('go', 0.0), ('god', 0.0), ('going', 0.0), ('good', 0.0), ('got', 0.0)]\n",
      "Topic 18:\n",
      "[('time', 4.844769306884291), ('max', 0.013729590735203592), ('part', 1.8537294057712079e-07), ('years', 0.0), ('help', 0.0), ('first', 0.0), ('g9v', 0.0), ('get', 0.0), ('go', 0.0), ('god', 0.0)]\n",
      "Topic 19:\n",
      "[('anyone', 7.000395861788898), ('max', 0.01449259750103901), ('information', 0.0), ('g9v', 0.0), ('get', 0.0), ('go', 0.0), ('god', 0.0), ('going', 0.0), ('good', 0.0), ('got', 0.0)]\n",
      "Topic 20:\n",
      "[('first', 10.211222519030116), ('year', 2.334857546877503e-05), ('part', 5.467911438989518e-07), ('however', 0.0), ('g9v', 0.0), ('get', 0.0), ('go', 0.0), ('god', 0.0), ('going', 0.0), ('good', 0.0)]\n",
      "Topic 21:\n",
      "[('thanks', 8.011531849611922), ('max', 0.0029709045002012293), ('mail', 6.282024768652465e-09), ('help', 0.0), ('first', 0.0), ('g9v', 0.0), ('get', 0.0), ('go', 0.0), ('god', 0.0), ('going', 0.0)]\n",
      "Topic 22:\n",
      "[('problem', 4.97606222696974), ('years', 0.0), ('help', 0.0), ('first', 0.0), ('g9v', 0.0), ('get', 0.0), ('go', 0.0), ('god', 0.0), ('going', 0.0), ('good', 0.0)]\n",
      "Topic 23:\n",
      "[('com', 5.8767118714107625), ('max', 0.011328312503830065), ('believe', 2.681786284043209e-09), ('made', 0.0), ('help', 0.0), ('g9v', 0.0), ('get', 0.0), ('go', 0.0), ('god', 0.0), ('going', 0.0)]\n",
      "Topic 24:\n",
      "[('system', 7.585301930495213), ('max', 0.01755248535041706), ('years', 0.0), ('help', 0.0), ('first', 0.0), ('g9v', 0.0), ('get', 0.0), ('go', 0.0), ('god', 0.0), ('going', 0.0)]\n",
      "Topic 25:\n",
      "[('us', 7.293889923230567), ('b8f', 0.03996496444654183), ('max', 0.012446334068473893), ('g9v', 0.008995493953313078), ('people', 2.78396415424139e-06), ('believe', 2.842430294698783e-07), ('however', 0.0), ('get', 0.0), ('go', 0.0), ('god', 0.0)]\n",
      "Topic 26:\n",
      "[('right', 11.086985782363156), ('max', 0.007901967038349956), ('part', 2.672045170517544e-08), ('however', 0.0), ('g9v', 0.0), ('get', 0.0), ('go', 0.0), ('god', 0.0), ('going', 0.0), ('good', 0.0)]\n",
      "Topic 27:\n",
      "[('need', 5.399089847504567), ('max', 0.005515062162957232), ('years', 0.0), ('however', 0.0), ('g9v', 0.0), ('get', 0.0), ('go', 0.0), ('god', 0.0), ('going', 0.0), ('good', 0.0)]\n",
      "Topic 28:\n",
      "[('much', 4.468707015888303), ('time', 8.462790614814887e-07), ('years', 0.0), ('help', 0.0), ('first', 0.0), ('g9v', 0.0), ('get', 0.0), ('go', 0.0), ('god', 0.0), ('going', 0.0)]\n",
      "Topic 29:\n",
      "[('well', 4.355015532992282), ('years', 0.0), ('however', 0.0), ('first', 0.0), ('g9v', 0.0), ('get', 0.0), ('go', 0.0), ('god', 0.0), ('going', 0.0), ('good', 0.0)]\n",
      "Topic 30:\n",
      "[('may', 5.386736286057748), ('max', 0.0053954860458154084), ('part', 7.424424589293531e-07), ('believe', 7.836879376565783e-08), ('however', 0.0), ('g9v', 0.0), ('get', 0.0), ('go', 0.0), ('god', 0.0), ('going', 0.0)]\n",
      "Topic 31:\n",
      "[('used', 4.626830146203575), ('part', 1.3619405101072628e-07), ('however', 0.0), ('first', 0.0), ('g9v', 0.0), ('get', 0.0), ('go', 0.0), ('god', 0.0), ('going', 0.0), ('good', 0.0)]\n",
      "Topic 32:\n",
      "[('year', 5.220738727005028), ('last', 0.0003914934904678492), ('part', 2.0135007133681083e-07), ('made', 0.0), ('look', 0.0), ('g9v', 0.0), ('get', 0.0), ('go', 0.0), ('god', 0.0), ('going', 0.0)]\n",
      "Topic 33:\n",
      "[('make', 6.158680681571736), ('part', 4.614549126116031e-07), ('years', 0.0), ('help', 0.0), ('first', 0.0), ('g9v', 0.0), ('get', 0.0), ('go', 0.0), ('god', 0.0), ('going', 0.0)]\n",
      "Topic 34:\n",
      "[('even', 5.304909644982252), ('max', 9.920987201008443e-05), ('part', 6.018991198210731e-07), ('believe', 6.214661526272172e-08), ('information', 0.0), ('get', 0.0), ('go', 0.0), ('god', 0.0), ('going', 0.0), ('good', 0.0)]\n",
      "Topic 35:\n",
      "[('10', 6.778942601325922), ('max', 0.018719508724416755), ('b8f', 0.005149825762673064), ('information', 0.0), ('g9v', 0.0), ('get', 0.0), ('go', 0.0), ('god', 0.0), ('going', 0.0), ('good', 0.0)]\n",
      "Topic 36:\n",
      "[('see', 9.968097117830593), ('part', 2.7388627058335423e-07), ('believe', 1.6090861495492991e-07), ('however', 0.0), ('first', 0.0), ('g9v', 0.0), ('get', 0.0), ('go', 0.0), ('god', 0.0), ('going', 0.0)]\n",
      "Topic 37:\n",
      "[('two', 5.257296255109957), ('part', 4.7070449704834134e-07), ('years', 0.0), ('first', 0.0), ('g9v', 0.0), ('get', 0.0), ('go', 0.0), ('god', 0.0), ('going', 0.0), ('good', 0.0)]\n",
      "Topic 38:\n",
      "[('way', 5.128806012600422), ('part', 7.298397280805137e-07), ('however', 0.0), ('first', 0.0), ('g9v', 0.0), ('get', 0.0), ('go', 0.0), ('god', 0.0), ('going', 0.0), ('good', 0.0)]\n",
      "Topic 39:\n",
      "[('data', 12.829580979924632), ('max', 0.018586330798399504), ('part', 2.1649410932535056e-06), ('years', 0.0), ('however', 0.0), ('g9v', 0.0), ('get', 0.0), ('go', 0.0), ('god', 0.0), ('going', 0.0)]\n",
      "Topic 40:\n",
      "[('got', 4.6763588412974695), ('last', 2.018137834324173e-06), ('years', 0.0), ('however', 0.0), ('first', 0.0), ('g9v', 0.0), ('get', 0.0), ('go', 0.0), ('god', 0.0), ('going', 0.0)]\n",
      "Topic 41:\n",
      "[('say', 5.3956068265656185), ('want', 0.0001096245737571592), ('said', 7.291038595444384e-05), ('last', 1.4529056705813116e-05), ('part', 8.402199577280602e-07), ('believe', 2.115737316452491e-07), ('government', 0.0), ('find', 0.0), ('first', 0.0), ('g9v', 0.0)]\n",
      "Topic 42:\n",
      "[('many', 5.57703953801387), ('part', 7.631130813224969e-07), ('however', 0.0), ('first', 0.0), ('g9v', 0.0), ('get', 0.0), ('go', 0.0), ('god', 0.0), ('going', 0.0), ('good', 0.0)]\n",
      "Topic 43:\n",
      "[('space', 7.972915924996438), ('max', 0.007748657439272259), ('year', 5.161991613356579e-06), ('part', 2.2427226601866515e-06), ('let', 8.045665276937272e-09), ('help', 0.0), ('g9v', 0.0), ('get', 0.0), ('go', 0.0), ('god', 0.0)]\n",
      "Topic 44:\n",
      "[('back', 7.26627742723152), ('information', 0.0), ('g9v', 0.0), ('get', 0.0), ('go', 0.0), ('god', 0.0), ('going', 0.0), ('good', 0.0), ('got', 0.0), ('government', 0.0)]\n",
      "Topic 45:\n",
      "[('work', 5.357309112328103), ('max', 0.0020356287620063584), ('get', 1.1583911564652958e-06), ('know', 1.115610831688453e-06), ('part', 2.776155573094325e-07), ('help', 0.0), ('first', 0.0), ('g9v', 0.0), ('go', 0.0), ('god', 0.0)]\n",
      "Topic 46:\n",
      "[('want', 5.180744563438289), ('work', 0.00028719057305205643), ('years', 0.0), ('however', 0.0), ('first', 0.0), ('g9v', 0.0), ('get', 0.0), ('go', 0.0), ('god', 0.0), ('going', 0.0)]\n",
      "Topic 47:\n",
      "[('file', 5.771077729361521), ('g9v', 0.001654190440737728), ('max', 0.0012993563296178235), ('program', 1.8031909286428089e-09), ('well', 3.7457667629246427e-10), ('years', 0.0), ('government', 0.0), ('first', 0.0), ('get', 0.0), ('go', 0.0)]\n",
      "Topic 48:\n",
      "[('really', 5.618890059610058), ('part', 2.1045435691506376e-08), ('however', 0.0), ('g9v', 0.0), ('get', 0.0), ('go', 0.0), ('god', 0.0), ('going', 0.0), ('good', 0.0), ('got', 0.0)]\n",
      "Topic 49:\n",
      "[('using', 8.11351059361515), ('max', 0.0038639270021702658), ('part', 1.7703283736012907e-07), ('however', 0.0), ('first', 0.0), ('g9v', 0.0), ('get', 0.0), ('go', 0.0), ('god', 0.0), ('going', 0.0)]\n",
      "Topic 50:\n",
      "[('said', 5.39993341065245), ('max', 0.0015152812658633268), ('last', 1.2262112088600783e-06), ('part', 9.377693185086467e-07), ('believe', 1.1647591846816342e-08), ('help', 0.0), ('g9v', 0.0), ('get', 0.0), ('go', 0.0), ('god', 0.0)]\n",
      "Topic 51:\n",
      "[('mail', 6.802966195183858), ('please', 0.0005327679103452707), ('first', 0.0), ('g9v', 0.0), ('get', 0.0), ('go', 0.0), ('god', 0.0), ('going', 0.0), ('good', 0.0), ('got', 0.0)]\n",
      "Topic 52:\n",
      "[('still', 6.698351341934194), ('last', 1.995538588561952e-05), ('believe', 1.3429447785500577e-08), ('help', 0.0), ('first', 0.0), ('g9v', 0.0), ('get', 0.0), ('go', 0.0), ('god', 0.0), ('going', 0.0)]\n",
      "Topic 53:\n",
      "[('something', 5.181606365590817), ('help', 0.0), ('find', 0.0), ('first', 0.0), ('g9v', 0.0), ('get', 0.0), ('go', 0.0), ('god', 0.0), ('going', 0.0), ('good', 0.0)]\n",
      "Topic 54:\n",
      "[('believe', 5.094666110469074), ('people', 1.3877799904426126e-05), ('part', 2.187976710029494e-07), ('g9v', 0.0), ('get', 0.0), ('go', 0.0), ('god', 0.0), ('going', 0.0), ('good', 0.0), ('got', 0.0)]\n",
      "Topic 55:\n",
      "[('want', 4.436268542410588), ('max', 0.17849485697862688), ('question', 0.005051619187457019), ('part', 1.060947337459316e-06), ('program', 2.6704021992330738e-09), ('years', 0.0), ('g9v', 0.0), ('get', 0.0), ('go', 0.0), ('god', 0.0)]\n",
      "Topic 56:\n",
      "[('sure', 6.844540567079549), ('program', 3.495572392711867e-11), ('years', 0.0), ('file', 0.0), ('first', 0.0), ('g9v', 0.0), ('get', 0.0), ('go', 0.0), ('god', 0.0), ('going', 0.0)]\n",
      "Topic 57:\n",
      "[('etc', 6.2311181021509405), ('max', 0.0339243651288982), ('part', 4.0054848893791715e-08), ('program', 9.477368357178998e-11), ('years', 0.0), ('help', 0.0), ('g9v', 0.0), ('get', 0.0), ('go', 0.0), ('god', 0.0)]\n",
      "Topic 58:\n",
      "[('government', 5.90637884434018), ('want', 0.00018451934279882834), ('us', 6.318292784514035e-05), ('time', 3.193194899076336e-05), ('point', 2.892573249658718e-05), ('use', 2.0512059171260132e-05), ('etc', 1.849508578499713e-05), ('system', 1.420659589007338e-05), ('power', 1.1211940726912155e-05), ('better', 1.0286124710036676e-05)]\n",
      "Topic 59:\n",
      "[('question', 6.27071570444837), ('part', 1.7211275822438964e-07), ('must', 9.552867727467481e-08), ('program', 5.2950452142522474e-11), ('help', 0.0), ('g9v', 0.0), ('get', 0.0), ('go', 0.0), ('god', 0.0), ('going', 0.0)]\n",
      "Topic 60:\n",
      "[('find', 6.797213809213864), ('max', 0.0057574228875440685), ('question', 9.274215087992632e-05), ('part', 4.972529410967724e-07), ('program', 2.1457567697981687e-11), ('long', 0.0), ('like', 0.0), ('g9v', 0.0), ('get', 0.0), ('go', 0.0)]\n",
      "Topic 61:\n",
      "[('key', 8.012445368517625), ('bit', 0.0009240530596441585), ('want', 0.0002110343951666813), ('use', 8.893447968491046e-05), ('time', 6.866698940457416e-05), ('system', 5.964011575368309e-05), ('point', 4.332086906175156e-05), ('etc', 3.8950314524405196e-05), ('15', 2.7924441240494794e-05), ('10', 2.764244862120358e-05)]\n",
      "Topic 62:\n",
      "[('might', 11.463578780528875), ('want', 0.00016217210610312648), ('time', 1.1793521857661434e-05), ('last', 1.0585337179436811e-05), ('us', 5.010066743889105e-06), ('like', 1.2985336124643099e-06), ('could', 3.9837389639062845e-07), ('part', 1.2193890157472213e-07), ('program', 2.3754589391625696e-11), ('years', 0.0)]\n",
      "Topic 63:\n",
      "[('program', 6.013539466187461), ('part', 3.9491878109815176e-07), ('new', 5.363795378402108e-08), ('help', 2.1252812589587816e-09), ('well', 1.9657207896200934e-10), ('years', 0.0), ('g9v', 0.0), ('get', 0.0), ('go', 0.0), ('god', 0.0)]\n",
      "Topic 64:\n",
      "[('take', 5.165021485680117), ('last', 1.481261153019052e-06), ('part', 1.7516787032593847e-07), ('like', 3.4927791606035838e-09), ('years', 0.0), ('government', 0.0), ('first', 0.0), ('g9v', 0.0), ('get', 0.0), ('go', 0.0)]\n",
      "Topic 65:\n",
      "[('number', 7.658323740045948), ('part', 1.1436504098492398e-06), ('program', 4.469205091730372e-11), ('however', 0.0), ('g9v', 0.0), ('get', 0.0), ('go', 0.0), ('god', 0.0), ('going', 0.0), ('good', 0.0)]\n",
      "Topic 66:\n",
      "[('go', 5.790193713041507), ('max', 0.010803311610136077), ('last', 2.771096478938402e-06), ('part', 1.1627008801005588e-06), ('however', 0.0), ('g9v', 0.0), ('get', 0.0), ('god', 0.0), ('going', 0.0), ('good', 0.0)]\n",
      "Topic 67:\n",
      "[('going', 4.679201334733165), ('last', 1.549035074452866e-06), ('get', 3.105583302011922e-07), ('part', 2.8753301294760234e-07), ('like', 1.5250456931794033e-07), ('years', 0.0), ('help', 0.0), ('first', 0.0), ('g9v', 0.0), ('go', 0.0)]\n",
      "Topic 68:\n",
      "[('read', 6.653199799800446), ('part', 3.0102223230743154e-07), ('like', 6.767152449222553e-08), ('help', 3.831531130583658e-09), ('edu', 2.8037870226066457e-10), ('program', 2.0762669628848957e-10), ('government', 0.0), ('g9v', 0.0), ('get', 0.0), ('go', 0.0)]\n",
      "Topic 69:\n",
      "[('00', 3.6374395039865366), ('part', 8.786544244066319e-07), ('20', 9.234122671532609e-08), ('help', 5.759387290178737e-11), ('made', 0.0), ('however', 0.0), ('g9v', 0.0), ('get', 0.0), ('go', 0.0), ('god', 0.0)]\n",
      "Topic 70:\n",
      "[('help', 4.399394445621192), ('please', 9.470456993007586e-06), ('like', 1.8220974158004702e-08), ('years', 0.0), ('first', 0.0), ('g9v', 0.0), ('get', 0.0), ('go', 0.0), ('god', 0.0), ('going', 0.0)]\n",
      "Topic 71:\n",
      "[('better', 5.079147171173925), ('max', 0.01782192753024408), ('last', 2.300449654147465e-05), ('part', 2.460337098143669e-07), ('program', 5.368941453436926e-11), ('years', 0.0), ('help', 0.0), ('g9v', 0.0), ('get', 0.0), ('go', 0.0)]\n",
      "Topic 72:\n",
      "[('information', 5.336184179076887), ('max', 0.0010949271152630449), ('please', 4.606643463723967e-05), ('part', 3.672499524459734e-07), ('new', 1.2032977902487247e-07), ('like', 1.003888992301485e-07), ('available', 1.742347262877728e-08), ('program', 8.262468331141984e-11), ('help', 8.015768708704024e-11), ('well', 3.435750188228441e-11)]\n",
      "Topic 73:\n",
      "[('years', 4.581711774750703), ('max', 0.009347868791183957), ('last', 8.011542650822897e-06), ('part', 6.530623368055218e-07), ('new', 3.1612620327294045e-08), ('long', 0.0), ('help', 0.0), ('g9v', 0.0), ('get', 0.0), ('go', 0.0)]\n",
      "Topic 74:\n",
      "[('power', 3.135888513417833), ('max', 0.009729053987509605), ('last', 3.1660903880966697e-06), ('please', 1.6460764416479537e-06), ('part', 7.281199936885202e-08), ('new', 6.55764923581935e-09), ('around', 3.234203548364173e-11), ('years', 0.0), ('get', 0.0), ('go', 0.0)]\n",
      "Topic 75:\n",
      "[('case', 5.281992625890054), ('many', 2.4063829618021663e-06), ('back', 2.128548713723283e-06), ('two', 1.1233460181309934e-06), ('still', 8.503878586535284e-07), ('government', 1.6736895345446474e-07), ('going', 5.499858883039877e-08), ('sure', 2.5028459987831027e-08), ('number', 1.3746138314417592e-08), ('made', 3.2171032574202524e-09)]\n",
      "Topic 76:\n",
      "[('last', 5.6316965394904726), ('part', 1.3311089911759026e-07), ('like', 3.761621654010327e-08), ('new', 4.481517492125262e-09), ('made', 1.6939601005800627e-09), ('sure', 1.302701844672754e-09), ('government', 0.0), ('first', 0.0), ('g9v', 0.0), ('get', 0.0)]\n",
      "Topic 77:\n",
      "[('long', 7.946027660351728), ('max', 0.023482503495234123), ('part', 3.6320015453177157e-07), ('sure', 1.023979402000604e-09), ('years', 0.0), ('government', 0.0), ('first', 0.0), ('g9v', 0.0), ('get', 0.0), ('go', 0.0)]\n",
      "Topic 78:\n",
      "[('must', 4.102460584618342), ('please', 1.793827482313373e-06), ('say', 6.457744721045149e-07), ('part', 6.042146451088263e-07), ('made', 3.6755801788468257e-09), ('sure', 2.8731680989671882e-09), ('edu', 1.3559816252150217e-09), ('help', 2.005616138861243e-11), ('got', 0.0), ('first', 0.0)]\n",
      "Topic 79:\n",
      "[('point', 3.6553125775700823), ('max', 0.022564963913813723), ('people', 1.949537464631741e-06), ('part', 2.1641407738156307e-07), ('like', 1.1347263552452367e-07), ('back', 1.629086780960729e-08), ('made', 8.490916853648565e-09), ('still', 6.286660085186471e-09), ('sure', 1.260802813939209e-09), ('help', 3.68127592622828e-11)]\n",
      "Topic 80:\n",
      "[('never', 4.046336929949293), ('max', 0.0007636044720330678), ('part', 3.4660936468554175e-07), ('made', 1.0160889401628843e-08), ('like', 4.722860766047351e-09), ('sure', 6.380204663906595e-10), ('help', 6.170760489763778e-11), ('g9v', 0.0), ('get', 0.0), ('go', 0.0)]\n",
      "Topic 81:\n",
      "[('available', 5.360741285817174), ('please', 8.042804927902935e-06), ('like', 9.86585639740995e-08), ('new', 1.8439556401047544e-08), ('mail', 1.0531187716813973e-08), ('edu', 1.0388523575168923e-08), ('made', 2.863965818618875e-09), ('sure', 3.2075603092497087e-10), ('help', 2.9406531224159395e-10), ('program', 2.4108808423777973e-10)]\n",
      "Topic 82:\n",
      "[('world', 5.203894138576664), ('want', 0.0001382978276756404), ('us', 3.473772621428841e-05), ('time', 2.4746140890495542e-05), ('years', 2.3514437028505702e-05), ('etc', 1.8220400585026377e-05), ('point', 1.7008175908058977e-05), ('bit', 1.5741887550991273e-05), ('use', 1.2263485806215257e-05), ('better', 8.378134237217626e-06)]\n",
      "Topic 83:\n",
      "[('law', 4.040122554518164), ('since', 0.00026844093411880596), ('years', 1.6675192918505293e-05), ('say', 5.977271984179676e-07), ('part', 5.035328153361278e-07), ('new', 4.951810809453668e-07), ('could', 3.576450115784158e-07), ('like', 1.5100780688421654e-07), ('things', 9.140178788956894e-08), ('come', 7.812502161979345e-08)]\n",
      "Topic 84:\n",
      "[('things', 3.7609663778525952), ('people', 3.935003054102149e-05), ('work', 4.524257990571099e-06), ('say', 7.339613356020195e-07), ('part', 3.087496035323148e-07), ('like', 2.746013470114079e-07), ('new', 7.86770250195953e-08), ('another', 1.9058087985516067e-08), ('made', 8.559100885500677e-09), ('look', 6.983921604022513e-09)]\n",
      "Topic 85:\n",
      "[('another', 3.6814955118196133), ('people', 3.848783090355816e-06), ('part', 8.750107331410662e-07), ('like', 2.2889369397718118e-07), ('get', 2.2092448958812682e-07), ('back', 1.427564049686968e-07), ('new', 6.190132393828002e-08), ('got', 3.750557240130743e-08), ('could', 1.8471135995073022e-08), ('made', 7.901235560439941e-09)]\n",
      "Topic 86:\n",
      "[('look', 3.8495156093262337), ('like', 2.394726681082975e-07), ('back', 1.4894600748320094e-07), ('new', 5.946330225772249e-08), ('come', 7.238257127478757e-09), ('made', 4.9014072473078045e-09), ('sure', 7.00757610484134e-10), ('around', 6.898974513229491e-10), ('good', 6.974588322370022e-11), ('help', 5.2368488177451685e-11)]\n",
      "Topic 87:\n",
      "[('made', 2.9165472867960975), ('please', 2.130534557957032e-06), ('say', 2.40317037655999e-07), ('back', 1.8826881064667133e-07), ('part', 1.0723819407131375e-07), ('new', 9.727868321847295e-08), ('could', 8.118616901137348e-08), ('two', 6.707416069874504e-08), ('like', 5.132514291285068e-08), ('things', 2.7413521088829688e-08)]\n",
      "Topic 88:\n",
      "[('law', 1.9164486521288189), ('case', 0.00014264985679275524), ('question', 6.141472500829998e-05), ('would', 2.9817381409007197e-05), ('one', 1.9901055424456465e-05), ('people', 1.5320794261467427e-05), ('us', 1.0006315940415737e-05), ('years', 7.949172837350665e-06), ('use', 3.808197451694305e-06), ('must', 2.5315173083300616e-06)]\n",
      "Topic 89:\n",
      "[('let', 3.4197185015286276), ('want', 6.759240036989028e-05), ('go', 2.398448566992491e-05), ('us', 1.3574041896685593e-05), ('time', 6.364721207324762e-06), ('know', 3.0195060964927603e-06), ('people', 2.0747869594200164e-06), ('like', 6.084367464016066e-07), ('get', 5.971974074197611e-07), ('say', 5.731038143663635e-07)]\n",
      "Topic 90:\n",
      "[('around', 3.078604349002556), ('get', 1.9866893554590974e-07), ('like', 1.8324647595995348e-07), ('back', 1.2985162312211205e-07), ('new', 4.286584113352386e-08), ('things', 2.8421175714634802e-08), ('20', 2.4816204298037728e-08), ('got', 1.8573536581274986e-08), ('come', 8.921560777357106e-09), ('another', 6.407135097254982e-09)]\n",
      "Topic 91:\n",
      "[('come', 2.9450119383133595), ('people', 1.9161471199715888e-05), ('want', 1.7556265129692356e-05), ('years', 6.73709310191386e-06), ('us', 2.743768977968442e-06), ('time', 1.6619317967374056e-06), ('know', 9.515904075877188e-07), ('say', 8.740816255518127e-07), ('get', 3.69929614791668e-07), ('part', 3.1231392772465926e-07)]\n",
      "Topic 92:\n",
      "[('part', 3.0702612517267807), ('b8f', 0.00495957058210014), ('g9v', 0.001309343967482007), ('question', 2.070465337943403e-05), ('people', 2.5400371937273543e-07), ('say', 2.2393893199871746e-07), ('like', 2.1667953395034376e-07), ('know', 1.6081304206437545e-07), ('things', 5.019452936251436e-08), ('get', 4.351111960736633e-08)]\n",
      "Topic 93:\n",
      "[('however', 2.7797639068778803), ('since', 1.0950802668417669e-05), ('people', 1.0804318706973281e-05), ('years', 5.045765139003747e-06), ('please', 5.012170606943027e-06), ('would', 4.8826481476520094e-06), ('one', 1.6890526270793389e-06), ('time', 1.45843887877311e-06), ('many', 1.2626470087338946e-06), ('year', 9.228497376091287e-07)]\n",
      "Topic 94:\n",
      "[('20', 2.597778039012147), ('work', 4.580968964269146e-06), ('years', 2.3107756008830483e-06), ('year', 4.791604559148475e-07), ('get', 1.474802299234947e-07), ('two', 1.377770310751507e-07), ('say', 7.467264953455486e-08), ('things', 2.0427276552420456e-08), ('still', 1.3562679405023469e-08), ('many', 1.050226453660484e-08)]\n",
      "Topic 95:\n",
      "[('15', 2.428109190182439), ('max', 0.01579773634676421), ('part', 8.005489011054521e-07), ('20', 1.7232480019628876e-07), ('two', 9.761382444831118e-08), ('get', 8.481351601004139e-08), ('people', 8.125995284373801e-08), ('like', 7.351221271356375e-08), ('back', 6.397452011561392e-08), ('say', 6.27847660560125e-08)]\n",
      "Topic 96:\n",
      "[('bit', 3.1723706343174882), ('max', 0.04561544851832847), ('work', 5.447217824708619e-06), ('since', 1.4326917828498247e-06), ('know', 4.822411933286156e-07), ('one', 3.408891396850958e-07), ('say', 3.3991381010078446e-07), ('get', 3.006305157108657e-07), ('two', 2.8286233174457035e-07), ('like', 1.50107892114218e-07)]\n",
      "Topic 97:\n",
      "[('ax', 1.676742218024964), ('max', 0.9588810827457684), ('b8f', 0.1089347518092604), ('g9v', 0.05103558986737245), ('two', 5.956858197362878e-08), ('20', 4.538449420508408e-08), ('year', 9.416887934091494e-09), ('say', 7.537703589147806e-09), ('get', 5.933024579433479e-09), ('let', 4.360452761969006e-09)]\n",
      "Topic 98:\n",
      "[('since', 2.7637648086827924), ('case', 1.6257175714694575e-05), ('work', 1.5991058382472755e-05), ('years', 5.5898748447681075e-06), ('would', 3.903970626737499e-06), ('please', 3.770427399116109e-06), ('people', 2.320182852325232e-06), ('know', 1.3863385677070942e-06), ('one', 1.1819089789760935e-06), ('say', 9.312405162615556e-07)]\n",
      "Topic 99:\n",
      "[('without', 4.113467578915122), ('g9v', 0.00021304499915257216), ('people', 2.070436682452909e-05), ('work', 1.7121466969088222e-05), ('case', 1.666016161926095e-05), ('years', 1.1072170863087715e-05), ('one', 1.073366911922873e-05), ('would', 4.689599418301331e-06), ('first', 3.1879381578018868e-06), ('since', 2.71034208951567e-06)]\n",
      "====================\n"
     ]
    }
   ],
   "source": [
    "display_topics(nmf, tfidfv)\n",
    "print(\"=\" * 20)"
   ]
  },
  {
   "cell_type": "code",
   "execution_count": 23,
   "metadata": {
    "ExecuteTime": {
     "end_time": "2020-04-29T12:19:05.672461Z",
     "start_time": "2020-04-29T12:19:05.656545Z"
    }
   },
   "outputs": [
    {
     "name": "stdout",
     "output_type": "stream",
     "text": [
      "Topic 0:\n",
      "[('say', 3.2426363496488153), ('people', 7.10126671430922e-05), ('god', 3.343159669262139e-09), ('first', 0.0), ('g9v', 0.0), ('get', 0.0), ('go', 0.0), ('going', 0.0), ('good', 0.0), ('got', 0.0)]\n",
      "Topic 1:\n",
      "[('please', 11.03591781287428), ('god', 1.2234308492061488e-09), ('years', 0.0), ('first', 0.0), ('g9v', 0.0), ('get', 0.0), ('go', 0.0), ('going', 0.0), ('good', 0.0), ('got', 0.0)]\n",
      "Topic 2:\n",
      "[('would', 3.844860814838243), ('god', 6.737144547111459e-10), ('years', 0.0), ('however', 0.0), ('first', 0.0), ('g9v', 0.0), ('get', 0.0), ('go', 0.0), ('going', 0.0), ('good', 0.0)]\n",
      "Topic 3:\n",
      "[('one', 4.104580607084754), ('god', 8.718251460666214e-10), ('years', 0.0), ('however', 0.0), ('first', 0.0), ('g9v', 0.0), ('get', 0.0), ('go', 0.0), ('going', 0.0), ('good', 0.0)]\n",
      "Topic 4:\n",
      "[('know', 6.71944240417515), ('god', 3.6232100627735275e-10), ('years', 0.0), ('however', 0.0), ('first', 0.0), ('g9v', 0.0), ('get', 0.0), ('go', 0.0), ('going', 0.0), ('good', 0.0)]\n",
      "Topic 5:\n",
      "[('edu', 4.461510983498503), ('years', 0.0), ('however', 0.0), ('g9v', 0.0), ('get', 0.0), ('go', 0.0), ('god', 0.0), ('going', 0.0), ('good', 0.0), ('got', 0.0)]\n",
      "Topic 6:\n",
      "[('get', 5.1052593089247535), ('years', 0.0), ('however', 0.0), ('first', 0.0), ('g9v', 0.0), ('go', 0.0), ('god', 0.0), ('going', 0.0), ('good', 0.0), ('got', 0.0)]\n",
      "Topic 7:\n",
      "[('like', 4.2332452644644425), ('years', 0.0), ('however', 0.0), ('first', 0.0), ('g9v', 0.0), ('get', 0.0), ('go', 0.0), ('god', 0.0), ('going', 0.0), ('good', 0.0)]\n",
      "Topic 8:\n",
      "[('new', 11.365137425159165), ('b8f', 0.0008569152737255283), ('g9v', 0.0007291844637655334), ('00', 1.9892897946577673e-12), ('however', 0.0), ('get', 0.0), ('go', 0.0), ('god', 0.0), ('going', 0.0), ('good', 0.0)]\n",
      "Topic 9:\n",
      "[('people', 7.011970457960653), ('us', 2.102723811026324e-05), ('time', 1.0801082742213826e-05), ('point', 1.4677311404399566e-06), ('even', 9.537720903724148e-07), ('part', 7.264405849305434e-07), ('way', 1.7689133233997818e-08), ('first', 0.0), ('g9v', 0.0), ('get', 0.0)]\n",
      "Topic 10:\n",
      "[('god', 5.325617642699451), ('people', 0.00016181553965198298), ('us', 3.320684295783946e-05), ('must', 5.786832397461423e-06), ('believe', 4.056524451053035e-06), ('time', 4.052866580067852e-06), ('point', 2.2178655034475166e-06), ('may', 1.3083751009018302e-06), ('part', 8.458872207259509e-07), ('even', 2.5720479502525776e-07)]\n",
      "Topic 11:\n",
      "[('think', 5.684522854781574), ('believe', 2.2395876459598804e-08), ('file', 0.0), ('first', 0.0), ('g9v', 0.0), ('get', 0.0), ('go', 0.0), ('god', 0.0), ('going', 0.0), ('good', 0.0)]\n",
      "Topic 12:\n",
      "[('windows', 6.434399237362106), ('well', 5.863311767415282e-10), ('years', 0.0), ('however', 0.0), ('first', 0.0), ('g9v', 0.0), ('get', 0.0), ('go', 0.0), ('god', 0.0), ('going', 0.0)]\n",
      "Topic 13:\n",
      "[('good', 4.39782787233061), ('believe', 8.820277028898557e-09), ('years', 0.0), ('g9v', 0.0), ('get', 0.0), ('go', 0.0), ('god', 0.0), ('going', 0.0), ('got', 0.0), ('government', 0.0)]\n",
      "Topic 14:\n",
      "[('use', 4.700010235662243), ('max', 0.01075533241068713), ('years', 0.0), ('however', 0.0), ('first', 0.0), ('g9v', 0.0), ('get', 0.0), ('go', 0.0), ('god', 0.0), ('going', 0.0)]\n",
      "Topic 15:\n",
      "[('drive', 5.2210366519474345), ('max', 0.003378666796104871), ('however', 0.0), ('g9v', 0.0), ('get', 0.0), ('go', 0.0), ('god', 0.0), ('going', 0.0), ('good', 0.0), ('got', 0.0)]\n",
      "Topic 16:\n",
      "[('could', 4.459877950244978), ('believe', 2.0073617460001765e-09), ('find', 0.0), ('g9v', 0.0), ('get', 0.0), ('go', 0.0), ('god', 0.0), ('going', 0.0), ('good', 0.0), ('got', 0.0)]\n",
      "Topic 17:\n",
      "[('also', 5.0567197093464165), ('part', 3.8877841391150145e-07), ('information', 0.0), ('g9v', 0.0), ('get', 0.0), ('go', 0.0), ('god', 0.0), ('going', 0.0), ('good', 0.0), ('got', 0.0)]\n",
      "Topic 18:\n",
      "[('time', 4.844769306884291), ('max', 0.013729590735203592), ('part', 1.8537294057712079e-07), ('years', 0.0), ('help', 0.0), ('first', 0.0), ('g9v', 0.0), ('get', 0.0), ('go', 0.0), ('god', 0.0)]\n",
      "Topic 19:\n",
      "[('anyone', 7.000395861788898), ('max', 0.01449259750103901), ('information', 0.0), ('g9v', 0.0), ('get', 0.0), ('go', 0.0), ('god', 0.0), ('going', 0.0), ('good', 0.0), ('got', 0.0)]\n",
      "Topic 20:\n",
      "[('first', 10.211222519030116), ('year', 2.334857546877503e-05), ('part', 5.467911438989518e-07), ('however', 0.0), ('g9v', 0.0), ('get', 0.0), ('go', 0.0), ('god', 0.0), ('going', 0.0), ('good', 0.0)]\n",
      "Topic 21:\n",
      "[('thanks', 8.011531849611922), ('max', 0.0029709045002012293), ('mail', 6.282024768652465e-09), ('help', 0.0), ('first', 0.0), ('g9v', 0.0), ('get', 0.0), ('go', 0.0), ('god', 0.0), ('going', 0.0)]\n",
      "Topic 22:\n",
      "[('problem', 4.97606222696974), ('years', 0.0), ('help', 0.0), ('first', 0.0), ('g9v', 0.0), ('get', 0.0), ('go', 0.0), ('god', 0.0), ('going', 0.0), ('good', 0.0)]\n",
      "Topic 23:\n",
      "[('com', 5.8767118714107625), ('max', 0.011328312503830065), ('believe', 2.681786284043209e-09), ('made', 0.0), ('help', 0.0), ('g9v', 0.0), ('get', 0.0), ('go', 0.0), ('god', 0.0), ('going', 0.0)]\n",
      "Topic 24:\n",
      "[('system', 7.585301930495213), ('max', 0.01755248535041706), ('years', 0.0), ('help', 0.0), ('first', 0.0), ('g9v', 0.0), ('get', 0.0), ('go', 0.0), ('god', 0.0), ('going', 0.0)]\n",
      "Topic 25:\n",
      "[('us', 7.293889923230567), ('b8f', 0.03996496444654183), ('max', 0.012446334068473893), ('g9v', 0.008995493953313078), ('people', 2.78396415424139e-06), ('believe', 2.842430294698783e-07), ('however', 0.0), ('get', 0.0), ('go', 0.0), ('god', 0.0)]\n",
      "Topic 26:\n",
      "[('right', 11.086985782363156), ('max', 0.007901967038349956), ('part', 2.672045170517544e-08), ('however', 0.0), ('g9v', 0.0), ('get', 0.0), ('go', 0.0), ('god', 0.0), ('going', 0.0), ('good', 0.0)]\n",
      "Topic 27:\n",
      "[('need', 5.399089847504567), ('max', 0.005515062162957232), ('years', 0.0), ('however', 0.0), ('g9v', 0.0), ('get', 0.0), ('go', 0.0), ('god', 0.0), ('going', 0.0), ('good', 0.0)]\n",
      "Topic 28:\n",
      "[('much', 4.468707015888303), ('time', 8.462790614814887e-07), ('years', 0.0), ('help', 0.0), ('first', 0.0), ('g9v', 0.0), ('get', 0.0), ('go', 0.0), ('god', 0.0), ('going', 0.0)]\n",
      "Topic 29:\n",
      "[('well', 4.355015532992282), ('years', 0.0), ('however', 0.0), ('first', 0.0), ('g9v', 0.0), ('get', 0.0), ('go', 0.0), ('god', 0.0), ('going', 0.0), ('good', 0.0)]\n",
      "Topic 30:\n",
      "[('may', 5.386736286057748), ('max', 0.0053954860458154084), ('part', 7.424424589293531e-07), ('believe', 7.836879376565783e-08), ('however', 0.0), ('g9v', 0.0), ('get', 0.0), ('go', 0.0), ('god', 0.0), ('going', 0.0)]\n",
      "Topic 31:\n",
      "[('used', 4.626830146203575), ('part', 1.3619405101072628e-07), ('however', 0.0), ('first', 0.0), ('g9v', 0.0), ('get', 0.0), ('go', 0.0), ('god', 0.0), ('going', 0.0), ('good', 0.0)]\n",
      "Topic 32:\n",
      "[('year', 5.220738727005028), ('last', 0.0003914934904678492), ('part', 2.0135007133681083e-07), ('made', 0.0), ('look', 0.0), ('g9v', 0.0), ('get', 0.0), ('go', 0.0), ('god', 0.0), ('going', 0.0)]\n",
      "Topic 33:\n",
      "[('make', 6.158680681571736), ('part', 4.614549126116031e-07), ('years', 0.0), ('help', 0.0), ('first', 0.0), ('g9v', 0.0), ('get', 0.0), ('go', 0.0), ('god', 0.0), ('going', 0.0)]\n",
      "Topic 34:\n",
      "[('even', 5.304909644982252), ('max', 9.920987201008443e-05), ('part', 6.018991198210731e-07), ('believe', 6.214661526272172e-08), ('information', 0.0), ('get', 0.0), ('go', 0.0), ('god', 0.0), ('going', 0.0), ('good', 0.0)]\n",
      "Topic 35:\n",
      "[('10', 6.778942601325922), ('max', 0.018719508724416755), ('b8f', 0.005149825762673064), ('information', 0.0), ('g9v', 0.0), ('get', 0.0), ('go', 0.0), ('god', 0.0), ('going', 0.0), ('good', 0.0)]\n",
      "Topic 36:\n",
      "[('see', 9.968097117830593), ('part', 2.7388627058335423e-07), ('believe', 1.6090861495492991e-07), ('however', 0.0), ('first', 0.0), ('g9v', 0.0), ('get', 0.0), ('go', 0.0), ('god', 0.0), ('going', 0.0)]\n",
      "Topic 37:\n",
      "[('two', 5.257296255109957), ('part', 4.7070449704834134e-07), ('years', 0.0), ('first', 0.0), ('g9v', 0.0), ('get', 0.0), ('go', 0.0), ('god', 0.0), ('going', 0.0), ('good', 0.0)]\n",
      "Topic 38:\n",
      "[('way', 5.128806012600422), ('part', 7.298397280805137e-07), ('however', 0.0), ('first', 0.0), ('g9v', 0.0), ('get', 0.0), ('go', 0.0), ('god', 0.0), ('going', 0.0), ('good', 0.0)]\n",
      "Topic 39:\n",
      "[('data', 12.829580979924632), ('max', 0.018586330798399504), ('part', 2.1649410932535056e-06), ('years', 0.0), ('however', 0.0), ('g9v', 0.0), ('get', 0.0), ('go', 0.0), ('god', 0.0), ('going', 0.0)]\n",
      "Topic 40:\n",
      "[('got', 4.6763588412974695), ('last', 2.018137834324173e-06), ('years', 0.0), ('however', 0.0), ('first', 0.0), ('g9v', 0.0), ('get', 0.0), ('go', 0.0), ('god', 0.0), ('going', 0.0)]\n",
      "Topic 41:\n",
      "[('say', 5.3956068265656185), ('want', 0.0001096245737571592), ('said', 7.291038595444384e-05), ('last', 1.4529056705813116e-05), ('part', 8.402199577280602e-07), ('believe', 2.115737316452491e-07), ('government', 0.0), ('find', 0.0), ('first', 0.0), ('g9v', 0.0)]\n",
      "Topic 42:\n",
      "[('many', 5.57703953801387), ('part', 7.631130813224969e-07), ('however', 0.0), ('first', 0.0), ('g9v', 0.0), ('get', 0.0), ('go', 0.0), ('god', 0.0), ('going', 0.0), ('good', 0.0)]\n",
      "Topic 43:\n",
      "[('space', 7.972915924996438), ('max', 0.007748657439272259), ('year', 5.161991613356579e-06), ('part', 2.2427226601866515e-06), ('let', 8.045665276937272e-09), ('help', 0.0), ('g9v', 0.0), ('get', 0.0), ('go', 0.0), ('god', 0.0)]\n",
      "Topic 44:\n",
      "[('back', 7.26627742723152), ('information', 0.0), ('g9v', 0.0), ('get', 0.0), ('go', 0.0), ('god', 0.0), ('going', 0.0), ('good', 0.0), ('got', 0.0), ('government', 0.0)]\n",
      "Topic 45:\n",
      "[('work', 5.357309112328103), ('max', 0.0020356287620063584), ('get', 1.1583911564652958e-06), ('know', 1.115610831688453e-06), ('part', 2.776155573094325e-07), ('help', 0.0), ('first', 0.0), ('g9v', 0.0), ('go', 0.0), ('god', 0.0)]\n",
      "Topic 46:\n",
      "[('want', 5.180744563438289), ('work', 0.00028719057305205643), ('years', 0.0), ('however', 0.0), ('first', 0.0), ('g9v', 0.0), ('get', 0.0), ('go', 0.0), ('god', 0.0), ('going', 0.0)]\n",
      "Topic 47:\n",
      "[('file', 5.771077729361521), ('g9v', 0.001654190440737728), ('max', 0.0012993563296178235), ('program', 1.8031909286428089e-09), ('well', 3.7457667629246427e-10), ('years', 0.0), ('government', 0.0), ('first', 0.0), ('get', 0.0), ('go', 0.0)]\n",
      "Topic 48:\n",
      "[('really', 5.618890059610058), ('part', 2.1045435691506376e-08), ('however', 0.0), ('g9v', 0.0), ('get', 0.0), ('go', 0.0), ('god', 0.0), ('going', 0.0), ('good', 0.0), ('got', 0.0)]\n",
      "Topic 49:\n"
     ]
    },
    {
     "name": "stdout",
     "output_type": "stream",
     "text": [
      "[('using', 8.11351059361515), ('max', 0.0038639270021702658), ('part', 1.7703283736012907e-07), ('however', 0.0), ('first', 0.0), ('g9v', 0.0), ('get', 0.0), ('go', 0.0), ('god', 0.0), ('going', 0.0)]\n",
      "Topic 50:\n",
      "[('said', 5.39993341065245), ('max', 0.0015152812658633268), ('last', 1.2262112088600783e-06), ('part', 9.377693185086467e-07), ('believe', 1.1647591846816342e-08), ('help', 0.0), ('g9v', 0.0), ('get', 0.0), ('go', 0.0), ('god', 0.0)]\n",
      "Topic 51:\n",
      "[('mail', 6.802966195183858), ('please', 0.0005327679103452707), ('first', 0.0), ('g9v', 0.0), ('get', 0.0), ('go', 0.0), ('god', 0.0), ('going', 0.0), ('good', 0.0), ('got', 0.0)]\n",
      "Topic 52:\n",
      "[('still', 6.698351341934194), ('last', 1.995538588561952e-05), ('believe', 1.3429447785500577e-08), ('help', 0.0), ('first', 0.0), ('g9v', 0.0), ('get', 0.0), ('go', 0.0), ('god', 0.0), ('going', 0.0)]\n",
      "Topic 53:\n",
      "[('something', 5.181606365590817), ('help', 0.0), ('find', 0.0), ('first', 0.0), ('g9v', 0.0), ('get', 0.0), ('go', 0.0), ('god', 0.0), ('going', 0.0), ('good', 0.0)]\n",
      "Topic 54:\n",
      "[('believe', 5.094666110469074), ('people', 1.3877799904426126e-05), ('part', 2.187976710029494e-07), ('g9v', 0.0), ('get', 0.0), ('go', 0.0), ('god', 0.0), ('going', 0.0), ('good', 0.0), ('got', 0.0)]\n",
      "Topic 55:\n",
      "[('want', 4.436268542410588), ('max', 0.17849485697862688), ('question', 0.005051619187457019), ('part', 1.060947337459316e-06), ('program', 2.6704021992330738e-09), ('years', 0.0), ('g9v', 0.0), ('get', 0.0), ('go', 0.0), ('god', 0.0)]\n",
      "Topic 56:\n",
      "[('sure', 6.844540567079549), ('program', 3.495572392711867e-11), ('years', 0.0), ('file', 0.0), ('first', 0.0), ('g9v', 0.0), ('get', 0.0), ('go', 0.0), ('god', 0.0), ('going', 0.0)]\n",
      "Topic 57:\n",
      "[('etc', 6.2311181021509405), ('max', 0.0339243651288982), ('part', 4.0054848893791715e-08), ('program', 9.477368357178998e-11), ('years', 0.0), ('help', 0.0), ('g9v', 0.0), ('get', 0.0), ('go', 0.0), ('god', 0.0)]\n",
      "Topic 58:\n",
      "[('government', 5.90637884434018), ('want', 0.00018451934279882834), ('us', 6.318292784514035e-05), ('time', 3.193194899076336e-05), ('point', 2.892573249658718e-05), ('use', 2.0512059171260132e-05), ('etc', 1.849508578499713e-05), ('system', 1.420659589007338e-05), ('power', 1.1211940726912155e-05), ('better', 1.0286124710036676e-05)]\n",
      "Topic 59:\n",
      "[('question', 6.27071570444837), ('part', 1.7211275822438964e-07), ('must', 9.552867727467481e-08), ('program', 5.2950452142522474e-11), ('help', 0.0), ('g9v', 0.0), ('get', 0.0), ('go', 0.0), ('god', 0.0), ('going', 0.0)]\n",
      "Topic 60:\n",
      "[('find', 6.797213809213864), ('max', 0.0057574228875440685), ('question', 9.274215087992632e-05), ('part', 4.972529410967724e-07), ('program', 2.1457567697981687e-11), ('long', 0.0), ('like', 0.0), ('g9v', 0.0), ('get', 0.0), ('go', 0.0)]\n",
      "Topic 61:\n",
      "[('key', 8.012445368517625), ('bit', 0.0009240530596441585), ('want', 0.0002110343951666813), ('use', 8.893447968491046e-05), ('time', 6.866698940457416e-05), ('system', 5.964011575368309e-05), ('point', 4.332086906175156e-05), ('etc', 3.8950314524405196e-05), ('15', 2.7924441240494794e-05), ('10', 2.764244862120358e-05)]\n",
      "Topic 62:\n",
      "[('might', 11.463578780528875), ('want', 0.00016217210610312648), ('time', 1.1793521857661434e-05), ('last', 1.0585337179436811e-05), ('us', 5.010066743889105e-06), ('like', 1.2985336124643099e-06), ('could', 3.9837389639062845e-07), ('part', 1.2193890157472213e-07), ('program', 2.3754589391625696e-11), ('years', 0.0)]\n",
      "Topic 63:\n",
      "[('program', 6.013539466187461), ('part', 3.9491878109815176e-07), ('new', 5.363795378402108e-08), ('help', 2.1252812589587816e-09), ('well', 1.9657207896200934e-10), ('years', 0.0), ('g9v', 0.0), ('get', 0.0), ('go', 0.0), ('god', 0.0)]\n",
      "Topic 64:\n",
      "[('take', 5.165021485680117), ('last', 1.481261153019052e-06), ('part', 1.7516787032593847e-07), ('like', 3.4927791606035838e-09), ('years', 0.0), ('government', 0.0), ('first', 0.0), ('g9v', 0.0), ('get', 0.0), ('go', 0.0)]\n",
      "Topic 65:\n",
      "[('number', 7.658323740045948), ('part', 1.1436504098492398e-06), ('program', 4.469205091730372e-11), ('however', 0.0), ('g9v', 0.0), ('get', 0.0), ('go', 0.0), ('god', 0.0), ('going', 0.0), ('good', 0.0)]\n",
      "Topic 66:\n",
      "[('go', 5.790193713041507), ('max', 0.010803311610136077), ('last', 2.771096478938402e-06), ('part', 1.1627008801005588e-06), ('however', 0.0), ('g9v', 0.0), ('get', 0.0), ('god', 0.0), ('going', 0.0), ('good', 0.0)]\n",
      "Topic 67:\n",
      "[('going', 4.679201334733165), ('last', 1.549035074452866e-06), ('get', 3.105583302011922e-07), ('part', 2.8753301294760234e-07), ('like', 1.5250456931794033e-07), ('years', 0.0), ('help', 0.0), ('first', 0.0), ('g9v', 0.0), ('go', 0.0)]\n",
      "Topic 68:\n",
      "[('read', 6.653199799800446), ('part', 3.0102223230743154e-07), ('like', 6.767152449222553e-08), ('help', 3.831531130583658e-09), ('edu', 2.8037870226066457e-10), ('program', 2.0762669628848957e-10), ('government', 0.0), ('g9v', 0.0), ('get', 0.0), ('go', 0.0)]\n",
      "Topic 69:\n",
      "[('00', 3.6374395039865366), ('part', 8.786544244066319e-07), ('20', 9.234122671532609e-08), ('help', 5.759387290178737e-11), ('made', 0.0), ('however', 0.0), ('g9v', 0.0), ('get', 0.0), ('go', 0.0), ('god', 0.0)]\n",
      "Topic 70:\n",
      "[('help', 4.399394445621192), ('please', 9.470456993007586e-06), ('like', 1.8220974158004702e-08), ('years', 0.0), ('first', 0.0), ('g9v', 0.0), ('get', 0.0), ('go', 0.0), ('god', 0.0), ('going', 0.0)]\n",
      "Topic 71:\n",
      "[('better', 5.079147171173925), ('max', 0.01782192753024408), ('last', 2.300449654147465e-05), ('part', 2.460337098143669e-07), ('program', 5.368941453436926e-11), ('years', 0.0), ('help', 0.0), ('g9v', 0.0), ('get', 0.0), ('go', 0.0)]\n",
      "Topic 72:\n",
      "[('information', 5.336184179076887), ('max', 0.0010949271152630449), ('please', 4.606643463723967e-05), ('part', 3.672499524459734e-07), ('new', 1.2032977902487247e-07), ('like', 1.003888992301485e-07), ('available', 1.742347262877728e-08), ('program', 8.262468331141984e-11), ('help', 8.015768708704024e-11), ('well', 3.435750188228441e-11)]\n",
      "Topic 73:\n",
      "[('years', 4.581711774750703), ('max', 0.009347868791183957), ('last', 8.011542650822897e-06), ('part', 6.530623368055218e-07), ('new', 3.1612620327294045e-08), ('long', 0.0), ('help', 0.0), ('g9v', 0.0), ('get', 0.0), ('go', 0.0)]\n",
      "Topic 74:\n",
      "[('power', 3.135888513417833), ('max', 0.009729053987509605), ('last', 3.1660903880966697e-06), ('please', 1.6460764416479537e-06), ('part', 7.281199936885202e-08), ('new', 6.55764923581935e-09), ('around', 3.234203548364173e-11), ('years', 0.0), ('get', 0.0), ('go', 0.0)]\n",
      "Topic 75:\n",
      "[('case', 5.281992625890054), ('many', 2.4063829618021663e-06), ('back', 2.128548713723283e-06), ('two', 1.1233460181309934e-06), ('still', 8.503878586535284e-07), ('government', 1.6736895345446474e-07), ('going', 5.499858883039877e-08), ('sure', 2.5028459987831027e-08), ('number', 1.3746138314417592e-08), ('made', 3.2171032574202524e-09)]\n",
      "Topic 76:\n",
      "[('last', 5.6316965394904726), ('part', 1.3311089911759026e-07), ('like', 3.761621654010327e-08), ('new', 4.481517492125262e-09), ('made', 1.6939601005800627e-09), ('sure', 1.302701844672754e-09), ('government', 0.0), ('first', 0.0), ('g9v', 0.0), ('get', 0.0)]\n",
      "Topic 77:\n",
      "[('long', 7.946027660351728), ('max', 0.023482503495234123), ('part', 3.6320015453177157e-07), ('sure', 1.023979402000604e-09), ('years', 0.0), ('government', 0.0), ('first', 0.0), ('g9v', 0.0), ('get', 0.0), ('go', 0.0)]\n",
      "Topic 78:\n",
      "[('must', 4.102460584618342), ('please', 1.793827482313373e-06), ('say', 6.457744721045149e-07), ('part', 6.042146451088263e-07), ('made', 3.6755801788468257e-09), ('sure', 2.8731680989671882e-09), ('edu', 1.3559816252150217e-09), ('help', 2.005616138861243e-11), ('got', 0.0), ('first', 0.0)]\n",
      "Topic 79:\n",
      "[('point', 3.6553125775700823), ('max', 0.022564963913813723), ('people', 1.949537464631741e-06), ('part', 2.1641407738156307e-07), ('like', 1.1347263552452367e-07), ('back', 1.629086780960729e-08), ('made', 8.490916853648565e-09), ('still', 6.286660085186471e-09), ('sure', 1.260802813939209e-09), ('help', 3.68127592622828e-11)]\n",
      "Topic 80:\n",
      "[('never', 4.046336929949293), ('max', 0.0007636044720330678), ('part', 3.4660936468554175e-07), ('made', 1.0160889401628843e-08), ('like', 4.722860766047351e-09), ('sure', 6.380204663906595e-10), ('help', 6.170760489763778e-11), ('g9v', 0.0), ('get', 0.0), ('go', 0.0)]\n",
      "Topic 81:\n",
      "[('available', 5.360741285817174), ('please', 8.042804927902935e-06), ('like', 9.86585639740995e-08), ('new', 1.8439556401047544e-08), ('mail', 1.0531187716813973e-08), ('edu', 1.0388523575168923e-08), ('made', 2.863965818618875e-09), ('sure', 3.2075603092497087e-10), ('help', 2.9406531224159395e-10), ('program', 2.4108808423777973e-10)]\n",
      "Topic 82:\n",
      "[('world', 5.203894138576664), ('want', 0.0001382978276756404), ('us', 3.473772621428841e-05), ('time', 2.4746140890495542e-05), ('years', 2.3514437028505702e-05), ('etc', 1.8220400585026377e-05), ('point', 1.7008175908058977e-05), ('bit', 1.5741887550991273e-05), ('use', 1.2263485806215257e-05), ('better', 8.378134237217626e-06)]\n",
      "Topic 83:\n",
      "[('law', 4.040122554518164), ('since', 0.00026844093411880596), ('years', 1.6675192918505293e-05), ('say', 5.977271984179676e-07), ('part', 5.035328153361278e-07), ('new', 4.951810809453668e-07), ('could', 3.576450115784158e-07), ('like', 1.5100780688421654e-07), ('things', 9.140178788956894e-08), ('come', 7.812502161979345e-08)]\n",
      "Topic 84:\n",
      "[('things', 3.7609663778525952), ('people', 3.935003054102149e-05), ('work', 4.524257990571099e-06), ('say', 7.339613356020195e-07), ('part', 3.087496035323148e-07), ('like', 2.746013470114079e-07), ('new', 7.86770250195953e-08), ('another', 1.9058087985516067e-08), ('made', 8.559100885500677e-09), ('look', 6.983921604022513e-09)]\n",
      "Topic 85:\n",
      "[('another', 3.6814955118196133), ('people', 3.848783090355816e-06), ('part', 8.750107331410662e-07), ('like', 2.2889369397718118e-07), ('get', 2.2092448958812682e-07), ('back', 1.427564049686968e-07), ('new', 6.190132393828002e-08), ('got', 3.750557240130743e-08), ('could', 1.8471135995073022e-08), ('made', 7.901235560439941e-09)]\n",
      "Topic 86:\n",
      "[('look', 3.8495156093262337), ('like', 2.394726681082975e-07), ('back', 1.4894600748320094e-07), ('new', 5.946330225772249e-08), ('come', 7.238257127478757e-09), ('made', 4.9014072473078045e-09), ('sure', 7.00757610484134e-10), ('around', 6.898974513229491e-10), ('good', 6.974588322370022e-11), ('help', 5.2368488177451685e-11)]\n",
      "Topic 87:\n",
      "[('made', 2.9165472867960975), ('please', 2.130534557957032e-06), ('say', 2.40317037655999e-07), ('back', 1.8826881064667133e-07), ('part', 1.0723819407131375e-07), ('new', 9.727868321847295e-08), ('could', 8.118616901137348e-08), ('two', 6.707416069874504e-08), ('like', 5.132514291285068e-08), ('things', 2.7413521088829688e-08)]\n",
      "Topic 88:\n",
      "[('law', 1.9164486521288189), ('case', 0.00014264985679275524), ('question', 6.141472500829998e-05), ('would', 2.9817381409007197e-05), ('one', 1.9901055424456465e-05), ('people', 1.5320794261467427e-05), ('us', 1.0006315940415737e-05), ('years', 7.949172837350665e-06), ('use', 3.808197451694305e-06), ('must', 2.5315173083300616e-06)]\n",
      "Topic 89:\n",
      "[('let', 3.4197185015286276), ('want', 6.759240036989028e-05), ('go', 2.398448566992491e-05), ('us', 1.3574041896685593e-05), ('time', 6.364721207324762e-06), ('know', 3.0195060964927603e-06), ('people', 2.0747869594200164e-06), ('like', 6.084367464016066e-07), ('get', 5.971974074197611e-07), ('say', 5.731038143663635e-07)]\n",
      "Topic 90:\n",
      "[('around', 3.078604349002556), ('get', 1.9866893554590974e-07), ('like', 1.8324647595995348e-07), ('back', 1.2985162312211205e-07), ('new', 4.286584113352386e-08), ('things', 2.8421175714634802e-08), ('20', 2.4816204298037728e-08), ('got', 1.8573536581274986e-08), ('come', 8.921560777357106e-09), ('another', 6.407135097254982e-09)]\n",
      "Topic 91:\n",
      "[('come', 2.9450119383133595), ('people', 1.9161471199715888e-05), ('want', 1.7556265129692356e-05), ('years', 6.73709310191386e-06), ('us', 2.743768977968442e-06), ('time', 1.6619317967374056e-06), ('know', 9.515904075877188e-07), ('say', 8.740816255518127e-07), ('get', 3.69929614791668e-07), ('part', 3.1231392772465926e-07)]\n",
      "Topic 92:\n",
      "[('part', 3.0702612517267807), ('b8f', 0.00495957058210014), ('g9v', 0.001309343967482007), ('question', 2.070465337943403e-05), ('people', 2.5400371937273543e-07), ('say', 2.2393893199871746e-07), ('like', 2.1667953395034376e-07), ('know', 1.6081304206437545e-07), ('things', 5.019452936251436e-08), ('get', 4.351111960736633e-08)]\n",
      "Topic 93:\n",
      "[('however', 2.7797639068778803), ('since', 1.0950802668417669e-05), ('people', 1.0804318706973281e-05), ('years', 5.045765139003747e-06), ('please', 5.012170606943027e-06), ('would', 4.8826481476520094e-06), ('one', 1.6890526270793389e-06), ('time', 1.45843887877311e-06), ('many', 1.2626470087338946e-06), ('year', 9.228497376091287e-07)]\n",
      "Topic 94:\n",
      "[('20', 2.597778039012147), ('work', 4.580968964269146e-06), ('years', 2.3107756008830483e-06), ('year', 4.791604559148475e-07), ('get', 1.474802299234947e-07), ('two', 1.377770310751507e-07), ('say', 7.467264953455486e-08), ('things', 2.0427276552420456e-08), ('still', 1.3562679405023469e-08), ('many', 1.050226453660484e-08)]\n",
      "Topic 95:\n",
      "[('15', 2.428109190182439), ('max', 0.01579773634676421), ('part', 8.005489011054521e-07), ('20', 1.7232480019628876e-07), ('two', 9.761382444831118e-08), ('get', 8.481351601004139e-08), ('people', 8.125995284373801e-08), ('like', 7.351221271356375e-08), ('back', 6.397452011561392e-08), ('say', 6.27847660560125e-08)]\n",
      "Topic 96:\n",
      "[('bit', 3.1723706343174882), ('max', 0.04561544851832847), ('work', 5.447217824708619e-06), ('since', 1.4326917828498247e-06), ('know', 4.822411933286156e-07), ('one', 3.408891396850958e-07), ('say', 3.3991381010078446e-07), ('get', 3.006305157108657e-07), ('two', 2.8286233174457035e-07), ('like', 1.50107892114218e-07)]\n",
      "Topic 97:\n",
      "[('ax', 1.676742218024964), ('max', 0.9588810827457684), ('b8f', 0.1089347518092604), ('g9v', 0.05103558986737245), ('two', 5.956858197362878e-08), ('20', 4.538449420508408e-08), ('year', 9.416887934091494e-09), ('say', 7.537703589147806e-09), ('get', 5.933024579433479e-09), ('let', 4.360452761969006e-09)]\n",
      "Topic 98:\n",
      "[('since', 2.7637648086827924), ('case', 1.6257175714694575e-05), ('work', 1.5991058382472755e-05), ('years', 5.5898748447681075e-06), ('would', 3.903970626737499e-06), ('please', 3.770427399116109e-06), ('people', 2.320182852325232e-06), ('know', 1.3863385677070942e-06), ('one', 1.1819089789760935e-06), ('say', 9.312405162615556e-07)]\n",
      "Topic 99:\n",
      "[('without', 4.113467578915122), ('g9v', 0.00021304499915257216), ('people', 2.070436682452909e-05), ('work', 1.7121466969088222e-05), ('case', 1.666016161926095e-05), ('years', 1.1072170863087715e-05), ('one', 1.073366911922873e-05), ('would', 4.689599418301331e-06), ('first', 3.1879381578018868e-06), ('since', 2.71034208951567e-06)]\n",
      "====================\n"
     ]
    }
   ],
   "source": [
    "display_topics2(nmf, tfidfv)\n",
    "print(\"=\" * 20)"
   ]
  },
  {
   "cell_type": "markdown",
   "metadata": {},
   "source": [
    "* display top 10 words from each topic from LDA model"
   ]
  },
  {
   "cell_type": "code",
   "execution_count": null,
   "metadata": {
    "ExecuteTime": {
     "end_time": "2020-04-29T12:19:06.842806Z",
     "start_time": "2020-04-29T12:19:06.831721Z"
    }
   },
   "outputs": [],
   "source": []
  },
  {
   "cell_type": "code",
   "execution_count": null,
   "metadata": {},
   "outputs": [],
   "source": []
  },
  {
   "cell_type": "markdown",
   "metadata": {},
   "source": [
    "### Stretch: Use LDA w/ Gensim to do the same thing."
   ]
  },
  {
   "cell_type": "code",
   "execution_count": null,
   "metadata": {},
   "outputs": [],
   "source": []
  },
  {
   "cell_type": "code",
   "execution_count": null,
   "metadata": {},
   "outputs": [],
   "source": []
  },
  {
   "cell_type": "code",
   "execution_count": null,
   "metadata": {},
   "outputs": [],
   "source": []
  }
 ],
 "metadata": {
  "kernelspec": {
   "display_name": "Python 3 (ipykernel)",
   "language": "python",
   "name": "python3"
  },
  "language_info": {
   "codemirror_mode": {
    "name": "ipython",
    "version": 3
   },
   "file_extension": ".py",
   "mimetype": "text/x-python",
   "name": "python",
   "nbconvert_exporter": "python",
   "pygments_lexer": "ipython3",
   "version": "3.9.7"
  },
  "toc": {
   "base_numbering": 1,
   "nav_menu": {},
   "number_sections": true,
   "sideBar": true,
   "skip_h1_title": false,
   "title_cell": "Table of Contents",
   "title_sidebar": "Contents",
   "toc_cell": false,
   "toc_position": {},
   "toc_section_display": true,
   "toc_window_display": false
  },
  "varInspector": {
   "cols": {
    "lenName": 16,
    "lenType": 16,
    "lenVar": 40
   },
   "kernels_config": {
    "python": {
     "delete_cmd_postfix": "",
     "delete_cmd_prefix": "del ",
     "library": "var_list.py",
     "varRefreshCmd": "print(var_dic_list())"
    },
    "r": {
     "delete_cmd_postfix": ") ",
     "delete_cmd_prefix": "rm(",
     "library": "var_list.r",
     "varRefreshCmd": "cat(var_dic_list()) "
    }
   },
   "types_to_exclude": [
    "module",
    "function",
    "builtin_function_or_method",
    "instance",
    "_Feature"
   ],
   "window_display": false
  }
 },
 "nbformat": 4,
 "nbformat_minor": 2
}
